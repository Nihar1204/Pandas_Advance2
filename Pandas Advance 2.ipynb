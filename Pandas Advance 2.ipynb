{
 "cells": [
  {
   "cell_type": "code",
   "execution_count": 1,
   "id": "bdb47c34-e53a-453b-8eda-305d8667f6d6",
   "metadata": {},
   "outputs": [],
   "source": [
    "import pandas as pd\n",
    "course_name = ['Data Science', 'Machine Learning', 'Big Data', 'Data Engineer']\n",
    "duration = [2,3,6,4]\n",
    "df = pd.DataFrame(data = {'course_name' : course_name, 'duration' : duration})"
   ]
  },
  {
   "cell_type": "code",
   "execution_count": 2,
   "id": "e1b3fa9a-6170-45c0-8a21-4f66571c8417",
   "metadata": {},
   "outputs": [
    {
     "data": {
      "text/plain": [
       "course_name    Machine Learning\n",
       "duration                      3\n",
       "Name: 1, dtype: object"
      ]
     },
     "execution_count": 2,
     "metadata": {},
     "output_type": "execute_result"
    }
   ],
   "source": [
    "# Q1\n",
    "\n",
    "df.iloc[1,:]"
   ]
  },
  {
   "cell_type": "code",
   "execution_count": 3,
   "id": "96befe33-1c28-4a87-be90-03fd5bd40826",
   "metadata": {},
   "outputs": [],
   "source": [
    "# Q2\n",
    "\n",
    "# iloc: Here i stands for integer, representing the row number\n",
    "# loc: It only gets the label i.e. column name or features"
   ]
  },
  {
   "cell_type": "code",
   "execution_count": 4,
   "id": "10bce53b-ec63-4b5d-bc99-9f6869b12f5c",
   "metadata": {},
   "outputs": [],
   "source": [
    "# Q3\n",
    "\n",
    "# In new_df.iloc[2] it is taking index 0 as 1 and index 1 as 2 hence returning Machine Learning and 3\n",
    "# In new_df.loc[2] it is referencing the particular index number as 2 hence returning Big Data and 6"
   ]
  },
  {
   "cell_type": "code",
   "execution_count": 5,
   "id": "837a2c6a-fbe7-47db-99ab-f287be80f595",
   "metadata": {},
   "outputs": [],
   "source": [
    "import numpy as np\n",
    "columns = ['column_1', 'column_2', 'column_3', 'column_4', 'column_5', 'column_6']\n",
    "indices = [1,2,3,4,5,6]\n",
    "#Creating a dataframe:\n",
    "df1 = pd.DataFrame(np.random.rand(6,6), columns = columns, index = indices)"
   ]
  },
  {
   "cell_type": "code",
   "execution_count": 6,
   "id": "c2cb3aac-4d13-4c00-b743-93f2cd71c09f",
   "metadata": {},
   "outputs": [
    {
     "data": {
      "text/plain": [
       "column_1    0.618428\n",
       "column_2    0.335501\n",
       "column_3    0.473591\n",
       "column_4    0.538080\n",
       "column_5    0.242541\n",
       "column_6    0.634738\n",
       "dtype: float64"
      ]
     },
     "execution_count": 6,
     "metadata": {},
     "output_type": "execute_result"
    }
   ],
   "source": [
    "# Q4(i)\n",
    "\n",
    "df1.mean()"
   ]
  },
  {
   "cell_type": "code",
   "execution_count": 7,
   "id": "265ae15d-00c7-4336-a1a7-b8220c773585",
   "metadata": {},
   "outputs": [
    {
     "data": {
      "text/plain": [
       "0.20966010225922818"
      ]
     },
     "execution_count": 7,
     "metadata": {},
     "output_type": "execute_result"
    }
   ],
   "source": [
    "# Q4(ii)\n",
    "\n",
    "df1['column_2'].std()"
   ]
  },
  {
   "cell_type": "code",
   "execution_count": 8,
   "id": "2ffc8581-1cdf-4078-bf9a-ea84c579cd7c",
   "metadata": {},
   "outputs": [],
   "source": [
    "# Q5\n",
    "\n",
    "#df1.loc[2,'column_2'] = 'Nihar'\n",
    "#df1['column_2'].mean()\n",
    "\n",
    "# We can calculate mean only of integers and floating numbers but in column_2 we have a string that's why we are getting error"
   ]
  },
  {
   "cell_type": "code",
   "execution_count": 9,
   "id": "aa218fb8-add4-4c31-9562-199ca975365a",
   "metadata": {},
   "outputs": [],
   "source": [
    "# Q6\n",
    "\n",
    "# Window functions are used to perform calculations over a specific \"window\" or subset of data in a DataFrame. \n",
    "# These functions allow us to compute values like moving averages, cumulative sums, or other aggregations within a \n",
    "# sliding window of data. \n",
    "\n",
    "# There are 3 types os windows functions are:\n",
    "# .rolling() : It is suitable for fixed-size windows.\n",
    "# .expanding(): It is used for expanding windows, including all data up to the current row.\n",
    "# .ewm(): It is used for exponential moving windows with customizable smoothing factors."
   ]
  },
  {
   "cell_type": "code",
   "execution_count": 10,
   "id": "11d52e16-cda1-452e-a3ab-fa095959ce5b",
   "metadata": {},
   "outputs": [
    {
     "name": "stdout",
     "output_type": "stream",
     "text": [
      "Current month: November\n",
      "Current year: 2023\n"
     ]
    }
   ],
   "source": [
    "# Q7\n",
    "\n",
    "\n",
    "current_date = pd.Timestamp.now()\n",
    "\n",
    "\n",
    "current_month = current_date.strftime('%B')\n",
    "current_year = current_date.strftime('%Y')\n",
    "\n",
    "print(\"Current month:\", current_month)\n",
    "print(\"Current year:\", current_year)\n"
   ]
  },
  {
   "cell_type": "code",
   "execution_count": 11,
   "id": "9c630544-ae45-49c1-b546-096218d25226",
   "metadata": {},
   "outputs": [
    {
     "name": "stdin",
     "output_type": "stream",
     "text": [
      "Enter the first date (YYYY-MM-DD):  2002-04-12\n",
      "Enter the second date (YYYY-MM-DD):  2023-11-01\n"
     ]
    },
    {
     "name": "stdout",
     "output_type": "stream",
     "text": [
      "Difference between the two dates:\n",
      "Days: 7873 days\n",
      "Hours: 0 hours\n",
      "Minutes: 0 minutes\n"
     ]
    }
   ],
   "source": [
    "# Q8\n",
    "\n",
    "date1_str = input(\"Enter the first date (YYYY-MM-DD): \")\n",
    "date2_str = input(\"Enter the second date (YYYY-MM-DD): \")\n",
    "\n",
    "\n",
    "date1 = pd.to_datetime(date1_str)\n",
    "date2 = pd.to_datetime(date2_str)\n",
    "\n",
    "\n",
    "time_difference = date2 - date1\n",
    "\n",
    "\n",
    "days_difference = time_difference.days\n",
    "hours_difference = time_difference.seconds // 3600\n",
    "minutes_difference = (time_difference.seconds // 60) % 60\n",
    "\n",
    "# Display the result\n",
    "print(\"Difference between the two dates:\")\n",
    "print(f\"Days: {days_difference} days\")\n",
    "print(f\"Hours: {hours_difference} hours\")\n",
    "print(f\"Minutes: {minutes_difference} minutes\")"
   ]
  },
  {
   "cell_type": "code",
   "execution_count": 12,
   "id": "de3665d6-cecb-4e13-bf85-ff7b110da216",
   "metadata": {},
   "outputs": [
    {
     "name": "stdin",
     "output_type": "stream",
     "text": [
      "Enter the path to the CSV file:  Test.csv\n",
      "Enter the column name to convert to categorical:  neutral\n",
      "Enter the category order (comma-separated, e.g., 'Category1,Category2,Category3'):  0,1\n"
     ]
    },
    {
     "name": "stdout",
     "output_type": "stream",
     "text": [
      "      season        date  playoff neutral status   ot             home_team  \\\n",
      "0       2023  2022-10-07        0     NaN   post  NaN   Nashville Predators   \n",
      "1       2023  2022-10-08        0     NaN   post  NaN       San Jose Sharks   \n",
      "2       2023  2022-10-11        0     NaN   post  NaN      New York Rangers   \n",
      "3       2023  2022-10-11        0     NaN   post  NaN     Los Angeles Kings   \n",
      "4       2023  2022-10-12        0     NaN   post  NaN   Carolina Hurricanes   \n",
      "...      ...         ...      ...     ...    ...  ...                   ...   \n",
      "1395    2023  2023-06-03        1     NaN   post  NaN  Vegas Golden Knights   \n",
      "1396    2023  2023-06-05        1     NaN   post  NaN  Vegas Golden Knights   \n",
      "1397    2023  2023-06-08        1     NaN   post   OT      Florida Panthers   \n",
      "1398    2023  2023-06-10        1     NaN   post  NaN      Florida Panthers   \n",
      "1399    2023  2023-06-13        1     NaN   post  NaN  Vegas Golden Knights   \n",
      "\n",
      "                  away_team home_team_abbr away_team_abbr  ...  overtime_prob  \\\n",
      "0           San Jose Sharks            NSH            SJS  ...       0.234345   \n",
      "1       Nashville Predators            SJS            NSH  ...       0.233053   \n",
      "2       Tampa Bay Lightning            NYR            TBL  ...       0.238935   \n",
      "3      Vegas Golden Knights            LAK            VEG  ...       0.240107   \n",
      "4     Columbus Blue Jackets            CAR            CBJ  ...       0.221824   \n",
      "...                     ...            ...            ...  ...            ...   \n",
      "1395       Florida Panthers            VEG            FLA  ...       0.230334   \n",
      "1396       Florida Panthers            VEG            FLA  ...       0.228880   \n",
      "1397   Vegas Golden Knights            FLA            VEG  ...       0.239415   \n",
      "1398   Vegas Golden Knights            FLA            VEG  ...       0.238460   \n",
      "1399       Florida Panthers            VEG            FLA  ...       0.226971   \n",
      "\n",
      "      home_team_expected_points  away_team_expected_points  home_team_score  \\\n",
      "0                      1.258314                   0.976030                4   \n",
      "1                      0.956634                   1.276419                2   \n",
      "2                      1.193826                   1.045109                3   \n",
      "3                      1.177400                   1.062707                3   \n",
      "4                      1.430048                   0.791776                4   \n",
      "...                         ...                        ...              ...   \n",
      "1395                   1.314360                   0.915974                5   \n",
      "1396                   1.334514                   0.894366                7   \n",
      "1397                   1.187091                   1.052324                3   \n",
      "1398                   1.200500                   1.037960                2   \n",
      "1399                   1.360762                   0.866209                9   \n",
      "\n",
      "      away_team_score  home_team_postgame_rating  away_team_postgame_rating  \\\n",
      "0                   1                1510.044255                1446.464381   \n",
      "1                   3                1444.546428                1511.962208   \n",
      "2                   1                1554.002969                1567.724755   \n",
      "3                   4                1498.528556                1531.054886   \n",
      "4                   1                1557.526926                1471.437081   \n",
      "...               ...                        ...                        ...   \n",
      "1395                2                1588.998986                1568.447721   \n",
      "1396                2                1593.064436                1564.382271   \n",
      "1397                2                1566.583246                1590.863461   \n",
      "1398                3                1563.904049                1593.542658   \n",
      "1399                3                1597.674423                1559.772284   \n",
      "\n",
      "      game_quality_rating  game_importance_rating  game_overall_rating  \n",
      "0                      15                      41                   28  \n",
      "1                      15                      43                   29  \n",
      "2                      97                      24                   60  \n",
      "3                      60                      77                   68  \n",
      "4                      58                      36                   47  \n",
      "...                   ...                     ...                  ...  \n",
      "1395                  100                     100                  100  \n",
      "1396                  100                     100                  100  \n",
      "1397                  100                     100                  100  \n",
      "1398                  100                     100                  100  \n",
      "1399                  100                     100                  100  \n",
      "\n",
      "[1400 rows x 24 columns]\n"
     ]
    }
   ],
   "source": [
    "# Q9\n",
    "\n",
    "\n",
    "# Function to read and process the CSV file\n",
    "def process_csv():\n",
    "    \n",
    "    file_path = input(\"Enter the path to the CSV file: \")\n",
    "\n",
    "    try:\n",
    "       \n",
    "        df = pd.read_csv(file_path)\n",
    "\n",
    "       \n",
    "        column_name = input(\"Enter the column name to convert to categorical: \")\n",
    "\n",
    "       \n",
    "        category_order = input(\"Enter the category order (comma-separated, e.g., 'Category1,Category2,Category3'): \").split(',')\n",
    "\n",
    "        \n",
    "        df[column_name] = pd.Categorical(df[column_name], categories=category_order, ordered=True)\n",
    "\n",
    "\n",
    "        sorted_df = df.sort_values(by=[column_name])\n",
    "        \n",
    "        print(sorted_df)\n",
    "\n",
    "    except FileNotFoundError:\n",
    "        print(\"File not found. Please provide a valid file path.\")\n",
    "    except KeyError:\n",
    "        print(\"The specified column does not exist in the CSV file.\")\n",
    "    except Exception as e:\n",
    "        print(f\"An error occurred: {str(e)}\")\n",
    "\n",
    "# Main program\n",
    "if __name__ == \"__main__\":\n",
    "    process_csv()\n"
   ]
  },
  {
   "cell_type": "code",
   "execution_count": 13,
   "id": "4bc3aa44-d536-4182-8711-d66c86c80cd4",
   "metadata": {},
   "outputs": [
    {
     "name": "stdin",
     "output_type": "stream",
     "text": [
      "Enter the CSV file... Demo.csv\n"
     ]
    },
    {
     "data": {
      "text/plain": [
       "Text(0.5, 0, 'Date')"
      ]
     },
     "execution_count": 13,
     "metadata": {},
     "output_type": "execute_result"
    },
    {
     "data": {
      "image/png": "[encoded data removed]",
      "text/plain": [
       "<Figure size 1000x600 with 1 Axes>"
      ]
     },
     "metadata": {},
     "output_type": "display_data"
    }
   ],
   "source": [
    "# Q10\n",
    "\n",
    "\n",
    "import matplotlib.pyplot as plt\n",
    "\n",
    "\n",
    "file = input(\"Enter the CSV file...\")\n",
    "df = pd.read_csv(file)\n",
    "\n",
    "\n",
    "df['Date'] = pd.to_datetime(df['Date'])\n",
    "\n",
    "\n",
    "pivot_df = df.pivot(index='Date', columns='Product', values='Sales').fillna(0)\n",
    "\n",
    "\n",
    "pivot_df.plot(kind='bar', stacked=True, figsize=(10, 6))\n",
    "plt.title('Product Sales Over Time')\n",
    "plt.xlabel('Date')\n"
   ]
  },
  {
   "cell_type": "code",
   "execution_count": 14,
   "id": "56fed559-9ea5-4d37-9246-7844ad32e46e",
   "metadata": {},
   "outputs": [
    {
     "name": "stdin",
     "output_type": "stream",
     "text": [
      "Enter the file name... student_data.csv\n"
     ]
    },
    {
     "name": "stdout",
     "output_type": "stream",
     "text": [
      "  Statistic                                   Value\n",
      "0      Mean                                    83.5\n",
      "1    Median                                    85.0\n",
      "2      Mode  0    85\n",
      "Name: Test_Score, dtype: int64\n"
     ]
    }
   ],
   "source": [
    "# Q11\n",
    "\n",
    "#from tabulate import tabulate\n",
    "\n",
    "\n",
    "file_name = input('Enter the file name...')\n",
    "df = pd.read_csv(file_name)\n",
    "\n",
    "mean = df['Test_Score'].mean()\n",
    "median = df['Test_Score'].median()\n",
    "mode = df['Test_Score'].mode()\n",
    "\n",
    "data = {'Statistic': ['Mean', 'Median', 'Mode'],\n",
    "        'Value': [mean, median, mode]}\n",
    "\n",
    "# Create a DataFrame\n",
    "df1 = pd.DataFrame(data)\n",
    "\n",
    "# Convert the DataFrame to a formatted table\n",
    "#table = tabulate(df1, headers='keys', tablefmt='fancy_grid', showindex=False)\n",
    "\n",
    "# Print the table\n",
    "print(df1)\n"
   ]
  },
  {
   "cell_type": "code",
   "execution_count": null,
   "id": "1307a49f-928f-4869-82bb-8393d3fd01c0",
   "metadata": {},
   "outputs": [],
   "source": []
  }
 ],
 "metadata": {
  "kernelspec": {
   "display_name": "Python 3 (ipykernel)",
   "language": "python",
   "name": "python3"
  },
  "language_info": {
   "codemirror_mode": {
    "name": "ipython",
    "version": 3
   },
   "file_extension": ".py",
   "mimetype": "text/x-python",
   "name": "python",
   "nbconvert_exporter": "python",
   "pygments_lexer": "ipython3",
   "version": "3.10.8"
  }
 },
 "nbformat": 4,
 "nbformat_minor": 5
}
